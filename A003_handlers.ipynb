{
 "cells": [
  {
   "attachments": {},
   "cell_type": "markdown",
   "metadata": {},
   "source": [
    "[Fonte](https://python-guide-pt-br.readthedocs.io/pt_BR/latest/writing/logging.html#example-configuration-directly-in-code)\n",
    "\n",
    "[TimedRotatingFileHandler](https://docs.python.org/3/library/logging.handlers.html#timedrotatingfilehandler)\n",
    "\n",
    "[RotatingFileHandler](https://docs.python.org/3/library/logging.handlers.html#rotatingfilehandler)"
   ]
  },
  {
   "cell_type": "code",
   "execution_count": 1,
   "metadata": {},
   "outputs": [],
   "source": [
    "import random\n",
    "import logging\n",
    "from logging.handlers import (TimedRotatingFileHandler, RotatingFileHandler)\n",
    "\n",
    "encoding='utf-8'\n",
    "formatter = '%(asctime)s %(name)-12s %(levelname)-8s %(message)s'"
   ]
  },
  {
   "cell_type": "code",
   "execution_count": 2,
   "metadata": {},
   "outputs": [],
   "source": [
    "def logger_timed():\n",
    "    filename_sized=\"log_with_time.log\"\n",
    "    global logger_time\n",
    "    logger_time = logging.getLogger()\n",
    "    # handler_time = logging.StreamHandler()\n",
    "    # handler_time = logging.FileHandler(filename, mode='a', encoding=encoding, delay=False , errors=None)\n",
    "    handler_time = TimedRotatingFileHandler(filename_sized, \n",
    "                                when='S', interval=5, backupCount=2, \n",
    "                                encoding=encoding, \n",
    "                                delay=True, utc=False, atTime=None, errors=None)\n",
    "\n",
    "    formatter_time = logging.Formatter(formatter)\n",
    "    handler_time.setFormatter(formatter_time)\n",
    "    logger_time.addHandler(handler_time)\n",
    "    logger_time.setLevel(logging.DEBUG)\n",
    "\n",
    "logger_timed()"
   ]
  },
  {
   "cell_type": "code",
   "execution_count": 3,
   "metadata": {},
   "outputs": [],
   "source": [
    "letra_time = chr(random.randint(ord('a'), ord('z')))\n",
    "logger_time.debug(f'mensagem {letra_time}')"
   ]
  },
  {
   "cell_type": "code",
   "execution_count": 6,
   "metadata": {},
   "outputs": [],
   "source": [
    "def logger_sized():\n",
    "    filename_sized=\"log_with_size.log\"\n",
    "    global logger_size\n",
    "    logger_size = logging.getLogger()\n",
    "    # handler_size = logging.StreamHandler()\n",
    "    # handler_size = logging.FileHandler(filename_sized, mode='a', encoding=encoding, delay=False , errors=None)\n",
    "    handler_size = RotatingFileHandler(filename_sized, mode='a', \n",
    "                                       maxBytes=500, backupCount=2, \n",
    "                                       encoding=encoding, delay=True, errors=None)\n",
    "\n",
    "    formatter_size = logging.Formatter(formatter)\n",
    "    handler_size.setFormatter(formatter_size)\n",
    "    logger_size.addHandler(handler_size)\n",
    "    logger_size.setLevel(logging.DEBUG)\n",
    "\n",
    "logger_sized()"
   ]
  },
  {
   "cell_type": "code",
   "execution_count": 7,
   "metadata": {},
   "outputs": [],
   "source": [
    "lista = list(range(5))\n",
    "for l in lista:\n",
    "    letra_size = chr(random.randint(ord('a'), ord('z')))\n",
    "    logger_size.debug(f'mensagem {l} - {letra_size}')\n",
    "\n"
   ]
  }
 ],
 "metadata": {
  "kernelspec": {
   "display_name": "venv_logging",
   "language": "python",
   "name": "python3"
  },
  "language_info": {
   "codemirror_mode": {
    "name": "ipython",
    "version": 3
   },
   "file_extension": ".py",
   "mimetype": "text/x-python",
   "name": "python",
   "nbconvert_exporter": "python",
   "pygments_lexer": "ipython3",
   "version": "3.11.2"
  },
  "orig_nbformat": 4
 },
 "nbformat": 4,
 "nbformat_minor": 2
}
