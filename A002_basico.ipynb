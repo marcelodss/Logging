{
 "cells": [
  {
   "attachments": {},
   "cell_type": "markdown",
   "metadata": {},
   "source": [
    "[Fonte](https://realpython.com/python-logging/)\n",
    "\n",
    "* personalizar o logger raiz usando mais parâmetros para `basicConfig()`, que podem ser encontrados [aqui](https://docs.python.org/3/library/logging.html#logging.basicConfig).\n",
    "\n",
    "> Deve-se observar que chamar `basicConfig()` para configurar o _root logger_ funciona apenas se o _root logger_ não tiver sido configurada antes. **Basicamente, esta função só pode ser chamada uma vez**.\n",
    "\n",
    "> `debug()`, `info()`, `warning()`, `error()`, e `critical()` sem argumentos também chamam `basicConfig()` automaticamente se não tiver sido chamado antes. **Isso significa que após a primeira vez que uma das funções acima forem chamadas, você não poderá mais configurar o _root logger_ porque elas teriam chamado a função `basicConfig()` internamente**.\n",
    "\n",
    "* `format` pode pegar uma string com **atributos** `LogRecord` em qualquer arranjo que você quiser. A lista completa de atributos disponíveis pode ser encontrada [aqui](https://docs.python.org/3/library/logging.html#logrecord-attributes).\n",
    "\n",
    "\n"
   ]
  },
  {
   "cell_type": "code",
   "execution_count": null,
   "metadata": {},
   "outputs": [],
   "source": [
    "import logging\n",
    "filename=\"app.log\""
   ]
  },
  {
   "cell_type": "code",
   "execution_count": null,
   "metadata": {},
   "outputs": [],
   "source": [
    "# logging.basicConfig(filename=filename)\n",
    "# logging.basicConfig(filename=filename, level=logging.DEBUG)\n",
    "logging.basicConfig(level=logging.DEBUG, filename=filename, format=\"%(asctime)s - %(levelname)s - %(message)s\", encoding='utf-8')"
   ]
  },
  {
   "cell_type": "code",
   "execution_count": null,
   "metadata": {},
   "outputs": [],
   "source": [
    "logging.debug('Esta é uma mensagem de depuração')\n",
    "logging.info('Esta é uma mensagem de informação')\n",
    "logging.warning('Esta mensagem é um aviso')\n",
    "logging.error('Esta é uma mensagem de erro')\n",
    "logging.critical('Esta é uma mensagem crítica')"
   ]
  },
  {
   "attachments": {},
   "cell_type": "markdown",
   "metadata": {},
   "source": [
    "Observe que as mensagens `debug()` e `info()` não foram registradas. Isso ocorre porque, por padrão, o módulo de registro registra as mensagens com um nível de gravidade igual **WARNING** ou superior.\n",
    "> Utilize `NOTSET` para registrar todos os níveis."
   ]
  },
  {
   "cell_type": "code",
   "execution_count": null,
   "metadata": {},
   "outputs": [],
   "source": [
    "logging.basicConfig(filename=filename, level=logging.NOTSET)\n",
    "logging.debug('Isso será registrado')"
   ]
  },
  {
   "cell_type": "code",
   "execution_count": null,
   "metadata": {},
   "outputs": [],
   "source": [
    "logging.basicConfig(level=logging.NOTSET, filename=filename, \n",
    "                    format=\"%(asctime)s - %(levelname)s - %(message)s\",)\n",
    "logging.info('Isso será registrado em um arquivo')"
   ]
  },
  {
   "attachments": {},
   "cell_type": "markdown",
   "metadata": {},
   "source": [
    "**Capturando rastreamentos de pilha**\n",
    "\n",
    "O módulo de log também permite capturar os rastreamentos de pilha completos em um aplicativo. [As informações de exceção](https://realpython.com/python-exceptions/) podem ser capturadas se o parâmetro `exc_info` for passado como `True`, e as funções de registro forem chamadas assim:"
   ]
  },
  {
   "cell_type": "code",
   "execution_count": null,
   "metadata": {},
   "outputs": [],
   "source": [
    "a = 5\n",
    "b = 0\n",
    "\n",
    "try:\n",
    "  c = a / b\n",
    "except Exception as e:\n",
    "  print(f\"Erro: {e}\")\n",
    "  logging.error(\"Exception occurred\", exc_info=True)"
   ]
  },
  {
   "attachments": {},
   "cell_type": "markdown",
   "metadata": {},
   "source": [
    "Se você estiver registrando de um manipulador de exceção, use o método `logging.exception()`, que registra uma mensagem com nível _ERROR_ e adiciona informações de exceção à mensagem. Simplificando, ligar `logging.exception()` é como ligar para `logging.error(exc_info=True)`. Mas como esse método sempre despeja informações de exceção, **ele só deve ser chamado de um manipulador de exceção**:"
   ]
  },
  {
   "cell_type": "code",
   "execution_count": null,
   "metadata": {},
   "outputs": [],
   "source": [
    "a = 5\n",
    "b = 0\n",
    "try:\n",
    "  c = a / b\n",
    "except Exception as e:\n",
    "  print(f\"Erro: {e}\")\n",
    "  logging.exception(\"Exception occurred\")"
   ]
  }
 ],
 "metadata": {
  "kernelspec": {
   "display_name": "venv_logging",
   "language": "python",
   "name": "python3"
  },
  "language_info": {
   "codemirror_mode": {
    "name": "ipython",
    "version": 3
   },
   "file_extension": ".py",
   "mimetype": "text/x-python",
   "name": "python",
   "nbconvert_exporter": "python",
   "pygments_lexer": "ipython3",
   "version": "3.11.2"
  },
  "orig_nbformat": 4
 },
 "nbformat": 4,
 "nbformat_minor": 2
}
