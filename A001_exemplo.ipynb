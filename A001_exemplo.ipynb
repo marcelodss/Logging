{
 "cells": [
  {
   "attachments": {},
   "cell_type": "markdown",
   "metadata": {},
   "source": [
    "[Fonte](https://www.hashtagtreinamentos.com/logging-em-python)"
   ]
  },
  {
   "cell_type": "code",
   "execution_count": 1,
   "metadata": {},
   "outputs": [],
   "source": [
    "import logging\n",
    "\n",
    "from modulos.A001_funcoes import (\n",
    "    logging_basicConfig,\n",
    "    resultado_operacional, lucro_liquido, lucro_por_acoes,\n",
    "    )\n",
    "\n",
    "logging_basicConfig()"
   ]
  },
  {
   "cell_type": "code",
   "execution_count": 2,
   "metadata": {},
   "outputs": [],
   "source": [
    "faturamento = 1000\n",
    "custo = 400\n",
    "percentual_imposto = 0.3\n",
    "acoes = 0"
   ]
  },
  {
   "cell_type": "code",
   "execution_count": 3,
   "metadata": {},
   "outputs": [
    {
     "name": "stdout",
     "output_type": "stream",
     "text": [
      "Erro: float division by zero\n"
     ]
    }
   ],
   "source": [
    "resultado = resultado_operacional(faturamento, custo)\n",
    "logging.info(f\"Resultado: {resultado}\")\n",
    "\n",
    "lucro = lucro_liquido(faturamento, custo, percentual_imposto)\n",
    "logging.info(f\"Lucro: {lucro}\")\n",
    "\n",
    "lucro_acao = lucro_por_acoes(faturamento, custo, percentual_imposto, acoes)\n",
    "logging.info(f\"Lucro por ação: {lucro_acao}\")"
   ]
  }
 ],
 "metadata": {
  "kernelspec": {
   "display_name": "venv_logging",
   "language": "python",
   "name": "python3"
  },
  "language_info": {
   "codemirror_mode": {
    "name": "ipython",
    "version": 3
   },
   "file_extension": ".py",
   "mimetype": "text/x-python",
   "name": "python",
   "nbconvert_exporter": "python",
   "pygments_lexer": "ipython3",
   "version": "3.11.2"
  },
  "orig_nbformat": 4
 },
 "nbformat": 4,
 "nbformat_minor": 2
}
